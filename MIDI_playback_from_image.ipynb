{
 "cells": [
  {
   "cell_type": "code",
   "execution_count": null,
   "metadata": {
    "colab": {
     "base_uri": "https://localhost:8080/"
    },
    "id": "cWOXXWU3mygJ",
    "outputId": "614bf6af-1d4f-4c55-b44f-bcd7b360035b"
   },
   "outputs": [],
   "source": [
    "# Install fluidsynth\n",
    "!apt install fluidsynth -qq\n",
    "!pip install --upgrade pip -qq\n",
    "!pip install --upgrade Pillow pretty_midi pyfluidsynth pypianoroll -qq"
   ]
  },
  {
   "cell_type": "code",
   "execution_count": null,
   "metadata": {
    "colab": {
     "base_uri": "https://localhost:8080/"
    },
    "id": "uuGjMqb3n6B1",
    "outputId": "d1fed1fa-c200-45d7-c942-dbb633fb5809"
   },
   "outputs": [],
   "source": [
    "# Mount drive and cd to notebook folder\n",
    "from google.colab import drive\n",
    "drive.mount('/content/drive', force_remount=True)\n",
    "\n",
    "%cd \"/content/drive/MyDrive/pato/upf-smc/Patricio SMC Thesis 2023\"\n",
    "\n",
    "import sys\n",
    "COLAB_WORKDIR = \"/content/drive/MyDrive/pato/upf-smc/Patricio SMC Thesis 2023\"\n",
    "if COLAB_WORKDIR not in sys.path:\n",
    "  sys.path.append(COLAB_WORKDIR)\n",
    "print(sys.path)"
   ]
  },
  {
   "cell_type": "code",
   "execution_count": null,
   "metadata": {
    "id": "NPmNJsooJiRA"
   },
   "outputs": [],
   "source": [
    "# Import requirements\n",
    "import glob\n",
    "import wave\n",
    "from base64 import b64encode\n",
    "from io import BytesIO\n",
    "from IPython.display import Audio, HTML, display\n",
    "from PIL import Image\n",
    "\n",
    "import numpy as np\n",
    "import pretty_midi as pm\n",
    "import pypianoroll"
   ]
  },
  {
   "cell_type": "code",
   "execution_count": null,
   "metadata": {
    "id": "32M8iLzOLmkj"
   },
   "outputs": [],
   "source": [
    "SAMPLE_RATE = 44100\n",
    "\n",
    "def mk_wav(arr):\n",
    "    \"\"\"Transform a numpy array to a PCM bytestring\n",
    "\n",
    "    Adapted from https://github.com/ipython/ipython/blob/main/IPython/lib/display.py#L146\n",
    "    \"\"\"\n",
    "    scaled = arr * 32767\n",
    "    scaled = scaled.astype(\"<h\").tobytes()\n",
    "\n",
    "    fp = BytesIO()\n",
    "    waveobj = wave.open(fp,mode='wb')\n",
    "    waveobj.setnchannels(1)\n",
    "    waveobj.setframerate(SAMPLE_RATE)\n",
    "    waveobj.setsampwidth(2)\n",
    "    waveobj.setcomptype('NONE','NONE')\n",
    "    waveobj.writeframes(scaled)\n",
    "    val = fp.getvalue()\n",
    "    waveobj.close()\n",
    "\n",
    "    return val\n",
    "\n",
    "def mk_audio_el(midi):\n",
    "    audio = midi.fluidsynth(fs=SAMPLE_RATE)\n",
    "    wav = mk_wav(audio)\n",
    "    b64 = b64encode(wav).decode('ascii')\n",
    "    return f'<audio controls=\"controls\"><source src=\"data:audio/wav;base64,{b64}\" type=\"audio/wav\"/></audio>'\n",
    "\n",
    "def mk_img_el(img):\n",
    "  image_io = BytesIO()\n",
    "  img.save(image_io, \"PNG\")\n",
    "  return f\"<img src=data:image/png;base64,{b64encode(image_io.getvalue()).decode('ascii')} />\""
   ]
  },
  {
   "cell_type": "code",
   "execution_count": null,
   "metadata": {
    "id": "vn9rj-ms3xFc"
   },
   "outputs": [],
   "source": [
    "drum_map_9_voice = {\n",
    "    36: 36,\n",
    "    38: 38,\n",
    "    40: 38,\n",
    "    37: 38,\n",
    "    48: 50,\n",
    "    50: 50,\n",
    "    45: 47,\n",
    "    47: 47,\n",
    "    43: 43,\n",
    "    58: 43,\n",
    "    46: 46,\n",
    "    26: 46,\n",
    "    42: 42,\n",
    "    22: 42,\n",
    "    44: 42,\n",
    "    49: 49,\n",
    "    55: 49,\n",
    "    57: 49,\n",
    "    52: 49,\n",
    "    51: 51,\n",
    "    59: 51,\n",
    "    53: 51,\n",
    "}"
   ]
  },
  {
   "cell_type": "code",
   "execution_count": null,
   "metadata": {
    "id": "ufo3nEx10uMb"
   },
   "outputs": [],
   "source": [
    "# Specify parameters\n",
    "\n",
    "filepath = \"input/slakh00006_S00/segrolls_512x512_2bar_24res/bar40_42_subdivision3792-3984.png\"\n",
    "# filepath = \"input/rtb-boska/img_24res/3_512x512.png\"\n",
    "\n",
    "# TODO: parse n_bars and beat_resolution from filename\n",
    "n_bars = 2\n",
    "beat_resolution = 24"
   ]
  },
  {
   "cell_type": "code",
   "execution_count": null,
   "metadata": {
    "colab": {
     "base_uri": "https://localhost:8080/",
     "height": 756
    },
    "id": "gI1binfq-0zj",
    "outputId": "65eeff75-b748-4dc1-be05-907f828a7e21"
   },
   "outputs": [],
   "source": [
    "# Load the image\n",
    "im = Image.open(filepath)\n",
    "\n",
    "# Crop padding from piano roll\n",
    "(left, top, right, bottom) = (0, 0, beat_resolution * 4 * n_bars, 128)\n",
    "im_cropped = im.crop((left, top, right, bottom))\n",
    "cropped = np.asarray(im_cropped)\n",
    "\n",
    "# Map pixel brightness to MIDI velocity\n",
    "roll = np.array(list(map(lambda x: np.interp(x, [0, 255], [0, 127]).astype(np.float32), cropped)))\n",
    "\n",
    "# Convert the piano roll to MIDI\n",
    "note_duration = .5 / beat_resolution  # a reasonable bpm close to 120 (?)\n",
    "# TODO: determine if is_drum based on program num\n",
    "# voices = [drum_map_9_voice[i] if i in drum_map_9_voice else i for i in range(128)]\n",
    "# instruments = [\n",
    "#     pm.Instrument(program=v, is_drum=True, name=pm.note_number_to_drum_name(v))\n",
    "#     for v in voices\n",
    "# ]\n",
    "instrument = pm.Instrument(program=1, is_drum=True)\n",
    "for voice in range(len(roll)):\n",
    "    events = roll[voice]\n",
    "    for event_ix, vel in enumerate(events):\n",
    "        start = event_ix * note_duration\n",
    "        note = pm.Note(\n",
    "            velocity=vel, pitch=drum_map_9_voice.get(voice, voice), start=start, end=start + note_duration\n",
    "        )\n",
    "        instrument.notes.append(note)\n",
    "        # instruments[voice].notes.append(note)\n",
    "\n",
    "track = pm.PrettyMIDI(resolution=beat_resolution)\n",
    "track.instruments.append(instrument)\n",
    "# for i in instruments:\n",
    "#     track.instruments.append(i)\n",
    "\n",
    "# Create the audio playback element\n",
    "audio_el = mk_audio_el(track)\n",
    "\n",
    "# Create the image element\n",
    "size = im_cropped.size\n",
    "upscale_factor = 960 // size[0]\n",
    "display_size = tuple(upscale_factor * x for x in size)\n",
    "print(f\"{size} upscaled {upscale_factor}x to {display_size}\\n\")\n",
    "display_im = im_cropped.resize(display_size, resample=Image.Resampling.BOX)\n",
    "img_el = mk_img_el(display_im)\n",
    "\n",
    "# Display the audio and video\n",
    "HTML(f\"<div><p>{audio_el}</p>{img_el}</div>\")"
   ]
  },
  {
   "cell_type": "code",
   "execution_count": null,
   "metadata": {
    "colab": {
     "base_uri": "https://localhost:8080/",
     "height": 532
    },
    "id": "FbRpP4tZJqV0",
    "outputId": "187f284d-13cb-41c3-b087-b86d68a601aa"
   },
   "outputs": [],
   "source": [
    "# From files\n",
    "\n",
    "audio_els = {}\n",
    "for fp in glob.glob('input/rtb-boska/midi/*.mid'):\n",
    "    midi = pm.PrettyMIDI(fp)\n",
    "    midi.instruments[0].is_drum = True\n",
    "    el = mk_audio_el(midi)\n",
    "    audio_els[fp] = el\n",
    "\n",
    "html = ''.join([f\"<p>{v} {k}</p>\" for k,v in audio_els.items()])\n",
    "\n",
    "HTML(html)"
   ]
  }
 ],
 "metadata": {
  "colab": {
   "provenance": []
  },
  "kernelspec": {
   "display_name": "Python 3 (ipykernel)",
   "language": "python",
   "name": "python3"
  },
  "language_info": {
   "codemirror_mode": {
    "name": "ipython",
    "version": 3
   },
   "file_extension": ".py",
   "mimetype": "text/x-python",
   "name": "python",
   "nbconvert_exporter": "python",
   "pygments_lexer": "ipython3",
   "version": "3.10.7"
  }
 },
 "nbformat": 4,
 "nbformat_minor": 1
}
