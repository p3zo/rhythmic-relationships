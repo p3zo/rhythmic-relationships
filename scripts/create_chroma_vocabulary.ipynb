{
 "cells": [
  {
   "cell_type": "markdown",
   "id": "d624f23e",
   "metadata": {},
   "source": [
    "The aim of this notebook is to create a vocabulary of chord types for chromas\n",
    "\n",
    "We load data to see which chord types occur and define the vocab accordingly."
   ]
  },
  {
   "cell_type": "code",
   "execution_count": 1,
   "id": "097d63c6",
   "metadata": {},
   "outputs": [],
   "source": [
    "import collections\n",
    "import matplotlib.pyplot as plt\n",
    "import torch\n",
    "from chord_progressions.type_templates import get_type_from_template, TYPE_TEMPLATES\n",
    "from torch.utils.data import DataLoader\n",
    "from tqdm import tqdm\n",
    "\n",
    "from rhythmic_relationships.data import PairDataset"
   ]
  },
  {
   "cell_type": "code",
   "execution_count": 2,
   "id": "82e6a01b",
   "metadata": {},
   "outputs": [
    {
     "name": "stdout",
     "output_type": "stream",
     "text": [
      "Vocab size: 193\n"
     ]
    }
   ],
   "source": [
    "# Add silence\n",
    "silence_template = '000000000000'\n",
    "TYPE_TEMPLATES.update({'silence': silence_template})\n",
    "\n",
    "# Rename out-of-vocab token and use silence to fill it\n",
    "if '' in TYPE_TEMPLATES:\n",
    "    del TYPE_TEMPLATES['']\n",
    "TYPE_TEMPLATES['oov'] = silence_template\n",
    "\n",
    "vocab_size = len(TYPE_TEMPLATES)\n",
    "print(f'Vocab size: {vocab_size}')\n",
    "\n",
    "inv_type_templates = {v: k for k, v in TYPE_TEMPLATES.items()}\n",
    "stoi = {s:i for i,s in enumerate(inv_type_templates)}\n",
    "itos = {i:s for s,i in stoi.items()}\n",
    "itot = {ix:i for ix, i in enumerate(list(TYPE_TEMPLATES))}\n",
    "ttoi = {v: k for k, v in itot.items()}\n",
    "\n",
    "def pclist_to_i(pclist):\n",
    "    \"\"\"Gets a chord type index from a pitch class list\n",
    "    e.g. pclist_to_i([1,0,0,0,0,0,0,0,0,0,0,0]) -> 1\n",
    "    \"\"\"\n",
    "    chord_type = get_type_from_template(pclist)\n",
    "    if not chord_type:\n",
    "        chord_type = 'oov'\n",
    "    template_str = TYPE_TEMPLATES[chord_type]\n",
    "    return stoi[template_str]"
   ]
  },
  {
   "cell_type": "markdown",
   "id": "c18168f0",
   "metadata": {},
   "source": [
    "Ideally this notebook would be generalized to select a vocab depending on the dataset, but for now we use `lmdc_1000`."
   ]
  },
  {
   "cell_type": "code",
   "execution_count": 3,
   "id": "9157fed3",
   "metadata": {},
   "outputs": [
    {
     "name": "stderr",
     "output_type": "stream",
     "text": [
      "100%|████████████████████████████████████████████████████████████████████████████████████████████| 22914/22914 [05:07<00:00, 74.41it/s]"
     ]
    },
    {
     "name": "stdout",
     "output_type": "stream",
     "text": [
      "83 {'silence': 372960, 'major chord': 70273, 'unison': 147009, 'perfect fourth': 29150, 'minor third': 10491, 'major third': 13813, 'minor chord': 29507, 'major-seventh chord': 6314, 'minor-seventh chord': 12701, 'whole-tone': 2440, 'incomplete minor-seventh chord': 3264, 'quartal tetramirror': 1866, 'augmented chord': 402, 'incomplete half-dim-seventh chord': 508, \"french-sixth chord|messiaen's truncated 6\": 78, 'dominant-seventh / german-sixth chord': 4295, 'dorian tetrachord|phrygian tetrachord': 83, 'major-ninth chord': 794, 'semitone': 633, 'diminished chord': 1673, 'tritone': 1025, 'lydian pentachord': 11, 'phrygian hexamirror': 9, 'balinese pelog pentatonic|korean': 3, 'major-second major tetrachord': 4188, 'phrygian trichord': 44, 'incomplete dominant-seventh chord 2': 2165, 'diminished-seventh chord': 232, 'quartal trichord': 7330, 'perfect-fourth major tetrachord': 859, 'minor-ninth chord': 717, 'major-second minor tetrachord': 344, 'minor trichord': 110, \"natural / genuine / 'black key' / blues pentatonic|slendro|bilahariraga\": 517, 'dominant-ninth,major-minor|prometheus pentamirror': 907, 'perfect-fourth minor tetrachord': 464, 'whole-tone trichord': 404, 'half-diminished seventh chord': 2285, 'indian-japan pentatonic': 15, 'kumoi pentachord 2': 40, 'italian sixth|incomplete dominant-seventh chord 1': 1702, 'phrygian tetrachord|minor tetramirror': 78, 'lydian tetrachord|major tetrachord': 25, 'rite chord 2|tritone-fourth 1': 69, 'all-interval tetrachord 4': 71, 'korean|kumoi pentachord 1': 52, 'guidon / arezzo / natural / genuine / persian hexachord|quartal hexamirror': 134, 'major / ionic pentachord': 29, 'whole-tone tetramirror': 161, 'major-diminished tetrachord': 75, 'gypsy / semiditonic pentachord 1': 2, 'major-minor trichord 2': 5, 'rite chord 1|tritone-fourth 2': 27, 'augmented-major tetrachord': 54, 'minor-second quartal tetrachord': 288, 'minor-diminished ninth chord': 47, 'all-interval tetrachord 3': 29, 'augmented-diminished ninth chord': 42, 'minor-diminished tetrachord': 3, 'dominant-11th|natural / genuine / lydian hexachord': 1, 'phrygian pentachord': 66, 'enigmatic pentachord 2|altered pentatonic': 27, 'whole-tone pentamirror': 54, 'double fourth tetramirror': 14, \"scriabin's mystic|prometheus hexachord\": 5, 'dorian / minor pentachord': 5, 'major-minor trichord 1': 8, 'minor-second diminished tetrachord': 25, 'tritone quartal tetrachord': 57, 'minor hexachord': 6, 'neapolitan pentachord 2': 18, 'perfect fourth tetramirror': 1, 'dorian hexachord': 12, 'flat-ninth pentachord|ranjaniraga': 26, 'pyramid': 30, 'indian dipaka|prometheus neapolitan': 4, 'augmented-sixth pentachord 1': 2, 'diminished minor-ninth chord': 1, 'lebanese pentachord|augmented-minor chord': 17, 'minor-augmented tetrachord': 25, 'all-interval tetrachord 2': 22, 'diminished-major ninth chord': 1, 'diminished-augmented ninth chord': 5}\n"
     ]
    },
    {
     "name": "stderr",
     "output_type": "stream",
     "text": [
      "\n"
     ]
    }
   ],
   "source": [
    "# Load the dataset\n",
    "dataset_config = {\n",
    "    \"dataset_name\": \"lmdc_1000_1bar_4res\",\n",
    "    \"part_1\": 'Guitar',\n",
    "    \"part_2\": 'Piano',\n",
    "    \"repr_1\": \"chroma\",\n",
    "    \"repr_2\": \"chroma\",\n",
    "}\n",
    "\n",
    "data = PairDataset(**dataset_config)\n",
    "loader = DataLoader(data, batch_size=1)\n",
    "\n",
    "# Reduce the vocab size based on each token's occurence in the data\n",
    "counts = collections.defaultdict(int)\n",
    "for x, y in tqdm(loader):\n",
    "    # Binarize the chromas\n",
    "    x = (x > 1).to(torch.int32)[0]\n",
    "    y = (y > 1).to(torch.int32)[0]\n",
    "\n",
    "    for xrow, yrow in zip(x, y):\n",
    "        ixx = pclist_to_i(xrow.tolist())\n",
    "        ixy = pclist_to_i(yrow.tolist())\n",
    "        counts[ixx] += 1\n",
    "        counts[ixy] += 1\n",
    "\n",
    "print(len(counts), {itot[k]: v for k,v in counts.items()})"
   ]
  },
  {
   "cell_type": "code",
   "execution_count": 4,
   "id": "1053aa77",
   "metadata": {
    "scrolled": false
   },
   "outputs": [
    {
     "name": "stdout",
     "output_type": "stream",
     "text": [
      "v_total=193, v_occur=83 (43.0%)\n",
      "n_occur=733248\n"
     ]
    }
   ],
   "source": [
    "sorted_type_counts = dict(sorted({itot[k]: v for k,v in counts.items()}.items(), key=lambda item: item[1]))\n",
    "\n",
    "v_total = len(TYPE_TEMPLATES)\n",
    "v_occur = len(sorted_type_counts)\n",
    "pct_v_occur = round(v_occur * 100 / v_total, 1)\n",
    "print(f'{v_total=}, {v_occur=} ({pct_v_occur}%)')\n",
    "\n",
    "n_occur = sum(sorted_type_counts.values())\n",
    "print(f'{n_occur=}')"
   ]
  },
  {
   "cell_type": "code",
   "execution_count": 5,
   "id": "be50986e",
   "metadata": {
    "scrolled": true
   },
   "outputs": [
    {
     "name": "stdout",
     "output_type": "stream",
     "text": [
      "v_in=17 (20.5%), v_out=66 (79.5%)\n",
      "n_in=720051 (98.2%), n_out=13197 (1.8%)\n"
     ]
    }
   ],
   "source": [
    "# Define the percentage of occurences to be out-of-vocabulary\n",
    "pct_oov = 0.02\n",
    "n_oov = sum(counts.values()) * pct_oov\n",
    "\n",
    "cur = 0\n",
    "new_vocab_counts = {}\n",
    "oov_counts = {}\n",
    "for k,v in sorted_type_counts.items():\n",
    "    cur += v\n",
    "    if cur >= n_oov:\n",
    "        new_vocab_counts[k] = v\n",
    "    else:\n",
    "        oov_counts[k] = v\n",
    "\n",
    "v_in = len(new_vocab_counts)\n",
    "v_out = len(oov_counts)\n",
    "\n",
    "pct_v_in = round(v_in * 100 / v_occur, 1)\n",
    "pct_v_out = round(v_out * 100 / v_occur, 1)\n",
    "print(f'{v_in=} ({pct_v_in}%), {v_out=} ({pct_v_out}%)')\n",
    "\n",
    "n_in = sum(new_vocab_counts.values())\n",
    "n_out = sum(oov_counts.values())\n",
    "pct_in = round(n_in * 100 / n_occur, 1)\n",
    "pct_out = round(n_out * 100 / n_occur, 1)\n",
    "print(f'{n_in=} ({pct_in}%), {n_out=} ({pct_out}%)')"
   ]
  },
  {
   "cell_type": "code",
   "execution_count": 6,
   "id": "29a4c198",
   "metadata": {},
   "outputs": [
    {
     "name": "stdout",
     "output_type": "stream",
     "text": [
      "v_in=18 (21.7%), v_out=59 (71.1%)\n",
      "n_in=722421 (98.5%), n_out=10827 (1.5%)\n"
     ]
    }
   ],
   "source": [
    "# TODO: extend this remapping further\n",
    "remap = {\n",
    " 'minor-ninth chord': 'minor-seventh chord',\n",
    " 'major-ninth chord': 'major-seventh chord',\n",
    " 'diminished chord': 'tritone',\n",
    " 'dominant-ninth,major-minor|prometheus pentamirror': 'tritone',\n",
    " 'italian sixth|incomplete dominant-seventh chord 1': 'tritone',\n",
    " 'dominanth-11th|natural / genuine / lydian hexachord': 'tritone',\n",
    " 'pyramid': 'tritone',\n",
    "}\n",
    "\n",
    "remapped = collections.defaultdict(int)\n",
    "for k, v in sorted_type_counts.items():\n",
    "    if k in remap:\n",
    "        k = remap[k]\n",
    "    remapped[k] += v\n",
    "\n",
    "cur = 0\n",
    "remapped_new_vocab_counts = {}\n",
    "remapped_oov_counts = {}\n",
    "for k,v in remapped.items():\n",
    "    cur += v\n",
    "    if cur >= n_oov:\n",
    "        remapped_new_vocab_counts[k] = v\n",
    "    else:\n",
    "        remapped_oov_counts[k] = v\n",
    "\n",
    "v_in = len(remapped_new_vocab_counts)\n",
    "v_out = len(remapped_oov_counts)\n",
    "\n",
    "pct_v_in = round(v_in * 100 / v_occur, 1)\n",
    "pct_v_out = round(v_out * 100 / v_occur, 1)\n",
    "print(f'{v_in=} ({pct_v_in}%), {v_out=} ({pct_v_out}%)')\n",
    "\n",
    "n_in = sum(remapped_new_vocab_counts.values())\n",
    "n_out = sum(remapped_oov_counts.values())\n",
    "pct_in = round(n_in * 100 / n_occur, 1)\n",
    "pct_out = round(n_out * 100 / n_occur, 1)\n",
    "print(f'{n_in=} ({pct_in}%), {n_out=} ({pct_out}%)')"
   ]
  },
  {
   "cell_type": "code",
   "execution_count": 7,
   "id": "726b1102",
   "metadata": {},
   "outputs": [
    {
     "data": {
      "text/plain": [
       "['minor-seventh chord',\n",
       " 'major-seventh chord',\n",
       " 'perfect-fourth major tetrachord',\n",
       " 'quartal tetramirror',\n",
       " 'incomplete dominant-seventh chord 2',\n",
       " 'half-diminished seventh chord',\n",
       " 'whole-tone',\n",
       " 'incomplete minor-seventh chord',\n",
       " 'major-second major tetrachord',\n",
       " 'dominant-seventh / german-sixth chord',\n",
       " 'quartal trichord',\n",
       " 'minor third',\n",
       " 'major third',\n",
       " 'perfect fourth',\n",
       " 'minor chord',\n",
       " 'major chord',\n",
       " 'unison',\n",
       " 'silence']"
      ]
     },
     "execution_count": 7,
     "metadata": {},
     "output_type": "execute_result"
    }
   ],
   "source": [
    "# The condensed vocab list (for now)\n",
    "list(remapped_new_vocab_counts)"
   ]
  }
 ],
 "metadata": {
  "kernelspec": {
   "display_name": "Python 3 (ipykernel)",
   "language": "python",
   "name": "python3"
  },
  "language_info": {
   "codemirror_mode": {
    "name": "ipython",
    "version": 3
   },
   "file_extension": ".py",
   "mimetype": "text/x-python",
   "name": "python",
   "nbconvert_exporter": "python",
   "pygments_lexer": "ipython3",
   "version": "3.10.7"
  }
 },
 "nbformat": 4,
 "nbformat_minor": 5
}
